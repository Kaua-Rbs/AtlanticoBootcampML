{
  "nbformat": 4,
  "nbformat_minor": 0,
  "metadata": {
    "colab": {
      "provenance": []
    },
    "kernelspec": {
      "name": "python3",
      "display_name": "Python 3"
    },
    "language_info": {
      "name": "python"
    }
  },
  "cells": [
    {
      "cell_type": "code",
      "execution_count": null,
      "metadata": {
        "id": "f6STtpsdNfwT"
      },
      "outputs": [],
      "source": [
        "#questao 1\n",
        "def prime(x):\n",
        "    '''recebe um inteiro e verifica se ele é primo, retorna um booleano'''\n",
        "    if x == 1: return False\n",
        "    for i in range(2, int(x**0.5)+1):\n",
        "        if (x%i == 0): return False\n",
        "\n",
        "    return True\n",
        "\n",
        "def find_primes(L):\n",
        "    '''recebe uma lista de inteiros e retorna uma nova lista com os elementos primos da lista recebida'''\n",
        "    P = []\n",
        "    for i in range(len(L)):\n",
        "        if prime(L[i]): P.append(L[i])\n",
        "    return P"
      ]
    },
    {
      "cell_type": "code",
      "source": [
        "#questao 2\n",
        "def exclusive_disjunction(L1, L2):\n",
        "    ''' recebe duas listas e verifica quais elementos estão presentes em exatamente uma das listas e retorna uma nova lista contendo esses elementos'''\n",
        "    ED = []\n",
        "    for i in L1:\n",
        "        if i not in L2 and i not in ED: ED.append(i)\n",
        "    for j in L2:\n",
        "        if j not in L1 and j not in ED: ED.append(j)\n",
        "    return ED"
      ],
      "metadata": {
        "id": "Tm0NOcJYvpsq"
      },
      "execution_count": null,
      "outputs": []
    },
    {
      "cell_type": "code",
      "source": [
        "#questao 3\n",
        "def second_biggest(L):\n",
        "    biggest = L[0]\n",
        "    second_biggest = L[0]\n",
        "    for i in L:\n",
        "        if i > biggest: biggest = i\n",
        "    for j in L:\n",
        "        if j != biggest and j > second_biggest: second_biggest = j\n",
        "    return second_biggest"
      ],
      "metadata": {
        "id": "vlSkXdI1vtHr"
      },
      "execution_count": null,
      "outputs": []
    },
    {
      "cell_type": "code",
      "source": [
        "#questao 4\n",
        "def sort_tuples_by_name(LT):\n",
        "    LT.sort(key=lambda t: t[0])\n",
        "    return LT"
      ],
      "metadata": {
        "id": "kpRxomoCvu0i"
      },
      "execution_count": null,
      "outputs": []
    },
    {
      "cell_type": "code",
      "source": [
        "#questao 5\n",
        "def min_and_max(L):\n",
        "    min = L[0]\n",
        "    max = L[0]\n",
        "    for i in L:\n",
        "        if i > max: max = i\n",
        "        elif i < min: min = i\n",
        "    return min, max"
      ],
      "metadata": {
        "id": "57sgE434vxH7"
      },
      "execution_count": null,
      "outputs": []
    },
    {
      "cell_type": "code",
      "source": [
        "#questao 6\n",
        "import pandas as pd\n",
        "\n",
        "#Lendo o arquivo\n",
        "df = pd.read_csv('arquivo.csv')\n",
        "\n",
        "#Exibindo as primeiras 'n' linhas do arquivo\n",
        "print(df.head(n))"
      ],
      "metadata": {
        "id": "200qt53Yvzhr"
      },
      "execution_count": null,
      "outputs": []
    },
    {
      "cell_type": "code",
      "source": [
        "#questao 7\n",
        "import pandas as pd\n",
        "\n",
        "#Lendo o arquivo\n",
        "df = pd.read_csv('arquivo.csv')\n",
        "\n",
        "#Selecionando a coluna desejada\n",
        "coluna = df['nome da coluna a selecionar']\n",
        "\n",
        "#Selecionando linhas com base em uma condição\n",
        "linhas = df[condição]\n",
        "#Supondo que a condição seja que os valores na coluna 'parametro' sejam maiores que 10:\n",
        "linhas = df[df['parametro'] > 10]"
      ],
      "metadata": {
        "id": "uPxI_pTqNHXs"
      },
      "execution_count": null,
      "outputs": []
    },
    {
      "cell_type": "code",
      "source": [
        "#questao 8\n",
        "import pandas as pd\n",
        "\n",
        "#para verificar a ocorrência de valores ausentes é possível utilizar o método isna()\n",
        "df = pd.read_csv('arquivo')\n",
        "valores_ausentes = df.isna()\n",
        "#também é possível checar para colunas específicas\n",
        "valores_ausentes_coluna = df['coluna'].isna()\n",
        "\n",
        "#tendo identificado os valores ausentes, é possível tratá-los das seguintes formas:\n",
        "\n",
        "#preenchendo-os com um determinado valor\n",
        "df.fillna(valor, inplace=True)\n",
        "\n",
        "#removendo as linhas que contém esses valores ausentes\n",
        "df.dropna(inplace=True)\n",
        "\n",
        "#ambos os métodos fillna() e dropna(), assim como isna(), podem ser usados tendo como argumento uma determinada coluna"
      ],
      "metadata": {
        "id": "o8zcJd4xVdm8"
      },
      "execution_count": null,
      "outputs": []
    },
    {
      "cell_type": "code",
      "source": [
        "#questao 9\n",
        "import matplotlib.pyplot as plt\n",
        "import numpy as np\n",
        "\n",
        "fig, axs = plt.subplots(ncols=2, nrows=2, figsize=(5.5, 3.5), constrained_layout=True)\n",
        "\n",
        "for row in range(2):\n",
        "    for col in range(2):\n",
        "        axs[row, col].annotate(f'axs[{row}, {col}]', (0.5, 0.5),\n",
        "                               transform=axs[row, col].transAxes,\n",
        "                               ha='center', va='center', fontsize=18,\n",
        "                               color='darkgrey')\n",
        "fig.suptitle('Matplotlib subplots')"
      ],
      "metadata": {
        "id": "RNkNrdg4bhos"
      },
      "execution_count": null,
      "outputs": []
    },
    {
      "cell_type": "code",
      "source": [
        "#questao 10\n",
        "import numpy as np\n",
        "import matplotlib as mpl\n",
        "import matplotlib.pyplot as plt\n",
        "\n",
        "x = np.linspace(-2 * np.pi, 2 * np.pi, 100)\n",
        "y = np.sin(x)\n",
        "\n",
        "fig, ax = plt.subplots()\n",
        "ax.plot(x, y)"
      ],
      "metadata": {
        "id": "lxyioBSIdfbA"
      },
      "execution_count": null,
      "outputs": []
    }
  ]
}